{
 "cells": [
  {
   "cell_type": "code",
   "execution_count": 1,
   "id": "b97a267a",
   "metadata": {},
   "outputs": [],
   "source": [
    "import osgeo.ogr as ogr, osr\n",
    "from tqdm import tqdm"
   ]
  },
  {
   "cell_type": "code",
   "execution_count": 2,
   "id": "337d7d13",
   "metadata": {},
   "outputs": [],
   "source": [
    "WETLANDS_SHP_ZIP = 'https://data.dea.ga.gov.au/projects/Wetlands_Insight_Tool/QLD/Queensland_dominant_wetland_areas_22042020.zip'"
   ]
  },
  {
   "cell_type": "code",
   "execution_count": 3,
   "id": "f507d046",
   "metadata": {},
   "outputs": [],
   "source": [
    "ds = ogr.Open(f'/vsizip/vsicurl/{WETLANDS_SHP_ZIP}')"
   ]
  },
  {
   "cell_type": "code",
   "execution_count": 4,
   "id": "6de28833",
   "metadata": {},
   "outputs": [],
   "source": [
    "inSpatialRef = osr.SpatialReference()\n",
    "inSpatialRef.ImportFromEPSG(3577)\n",
    "outSpatialRef = osr.SpatialReference()\n",
    "outSpatialRef.ImportFromEPSG(4326)\n",
    "coordTrans = osr.CoordinateTransformation(inSpatialRef, outSpatialRef)"
   ]
  },
  {
   "cell_type": "code",
   "execution_count": 5,
   "id": "7f509211",
   "metadata": {},
   "outputs": [
    {
     "name": "stderr",
     "output_type": "stream",
     "text": [
      "100%|██████████| 270421/270421 [01:16<00:00, 3532.45it/s]\n"
     ]
    }
   ],
   "source": [
    "layer = ds.GetLayer()\n",
    "feature_n = layer.GetFeatureCount()\n",
    "for feature in tqdm(layer):\n",
    "    geom = feature.GetGeometryRef()\n",
    "    geom.Transform(coordTrans)\n",
    "    centroid = geom.Centroid().ExportToWkt()"
   ]
  },
  {
   "cell_type": "code",
   "execution_count": null,
   "id": "f7dbe6af",
   "metadata": {},
   "outputs": [],
   "source": []
  }
 ],
 "metadata": {
  "kernelspec": {
   "display_name": "Python 3",
   "language": "python",
   "name": "python3"
  },
  "language_info": {
   "codemirror_mode": {
    "name": "ipython",
    "version": 3
   },
   "file_extension": ".py",
   "mimetype": "text/x-python",
   "name": "python",
   "nbconvert_exporter": "python",
   "pygments_lexer": "ipython3",
   "version": "3.8.10"
  }
 },
 "nbformat": 4,
 "nbformat_minor": 5
}
