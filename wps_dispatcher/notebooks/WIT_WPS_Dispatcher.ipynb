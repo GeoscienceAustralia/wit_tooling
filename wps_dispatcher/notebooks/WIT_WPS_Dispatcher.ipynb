{
 "cells": [
  {
   "cell_type": "code",
   "execution_count": 1,
   "id": "b97a267a",
   "metadata": {},
   "outputs": [],
   "source": [
    "import osgeo.ogr as ogr\n",
    "from tqdm import tqdm"
   ]
  },
  {
   "cell_type": "code",
   "execution_count": 2,
   "id": "337d7d13",
   "metadata": {},
   "outputs": [],
   "source": [
    "WETLANDS_SHP_ZIP = 'https://data.dea.ga.gov.au/projects/Wetlands_Insight_Tool/QLD/Queensland_dominant_wetland_areas_22042020.zip'"
   ]
  },
  {
   "cell_type": "code",
   "execution_count": 3,
   "id": "f507d046",
   "metadata": {},
   "outputs": [],
   "source": [
    "ds = ogr.Open(f'/vsizip/vsicurl/{WETLANDS_SHP_ZIP}')"
   ]
  },
  {
   "cell_type": "code",
   "execution_count": 4,
   "id": "7f509211",
   "metadata": {},
   "outputs": [
    {
     "name": "stderr",
     "output_type": "stream",
     "text": [
      "100%|██████████| 270421/270421 [09:42<00:00, 464.35it/s] \n"
     ]
    }
   ],
   "source": [
    "layer = ds.GetLayer()\n",
    "feature_n = layer.GetFeatureCount()\n",
    "for feature in tqdm(layer):\n",
    "    geom = feature.GetGeometryRef()\n",
    "    centroid = geom.Centroid().ExportToWkt()"
   ]
  }
 ],
 "metadata": {
  "kernelspec": {
   "display_name": "Python 3",
   "language": "python",
   "name": "python3"
  },
  "language_info": {
   "codemirror_mode": {
    "name": "ipython",
    "version": 3
   },
   "file_extension": ".py",
   "mimetype": "text/x-python",
   "name": "python",
   "nbconvert_exporter": "python",
   "pygments_lexer": "ipython3",
   "version": "3.8.2"
  }
 },
 "nbformat": 4,
 "nbformat_minor": 5
}
