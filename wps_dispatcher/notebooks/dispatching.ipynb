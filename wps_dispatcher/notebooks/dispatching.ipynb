{
 "cells": [
  {
   "cell_type": "markdown",
   "metadata": {},
   "source": [
    "# WIT Dispatcher"
   ]
  },
  {
   "cell_type": "code",
   "execution_count": 1,
   "metadata": {},
   "outputs": [],
   "source": [
    "import fiona.transform\n",
    "import time\n",
    "import asyncio, aiohttp, xmltodict\n",
    "import string"
   ]
  },
  {
   "cell_type": "markdown",
   "metadata": {},
   "source": [
    "Polygons can be read directly from the zipped shapefile supplied. (However, an optimisation would be to store the vector data in the target projection.)"
   ]
  },
  {
   "cell_type": "code",
   "execution_count": 2,
   "metadata": {},
   "outputs": [],
   "source": [
    "def generate_polygons(max_index=None, max_length=None):\n",
    "    \"\"\"Produce indexed WGS84 polygons from shapefile\"\"\"\n",
    "    source = \"zip://Queensland_dominant_wetland_areas_22042020.zip\"\n",
    "    with fiona.open(source) as collection:\n",
    "        #collection.ignore_fields = list(collection.schema['properties']) # read fewer columns\n",
    "        for i, record in enumerate(collection):\n",
    "            if max_length and record['properties']['Shape_Leng'] > max_length:\n",
    "                continue\n",
    "            # Note, reprojection is very slow, and could instead be prepared prior to runtime. \n",
    "            geom = fiona.transform.transform_geom(collection.crs, 'EPSG:4326', record['geometry'])\n",
    "            geom['coordinates'] = [[[lon, lat] for (lat, lon) in ring] for ring in geom['coordinates']]\n",
    "            yield i, geom\n",
    "            if max_index and i >= max_index:\n",
    "                break"
   ]
  },
  {
   "cell_type": "markdown",
   "metadata": {},
   "source": [
    "Polygons must be encoded into WPS *execute* requests, together with a time interval. For WIT, it is unimportant whether all time is processed in a single interval, or divided into multiple successive increments."
   ]
  },
  {
   "cell_type": "code",
   "execution_count": 3,
   "metadata": {},
   "outputs": [],
   "source": [
    "request_template = \"\"\"\n",
    "<wps:Execute version=\"1.0.0\" service=\"WPS\" xmlns:xsi=\"http://www.w3.org/2001/XMLSchema-instance\" xmlns=\"http://www.opengis.net/wps/1.0.0\" xmlns:wfs=\"http://www.opengis.net/wfs\" xmlns:wps=\"http://www.opengis.net/wps/1.0.0\" xmlns:ows=\"http://www.opengis.net/ows/1.1\" xmlns:gml=\"http://www.opengis.net/gml\" xmlns:ogc=\"http://www.opengis.net/ogc\" xmlns:wcs=\"http://www.opengis.net/wcs/1.1.1\" xmlns:xlink=\"http://www.w3.org/1999/xlink\" xsi:schemaLocation=\"http://www.opengis.net/wps/1.0.0 http://schemas.opengis.net/wps/1.0.0/wpsAll.xsd\">\n",
    "    <ows:Identifier>WIT</ows:Identifier>\n",
    "    <wps:DataInputs>\n",
    "    <wps:Input>\n",
    "        <ows:Identifier>geometry</ows:Identifier>\n",
    "        <wps:Data>\n",
    "        <wps:ComplexData>{\"type\":\"FeatureCollection\",\"features\":[{\"type\":\"Feature\",\"geometry\":%s]}</wps:ComplexData>\n",
    "        </wps:Data>\n",
    "    </wps:Input>\n",
    "    <wps:Input>\n",
    "        <ows:Identifier>start</ows:Identifier>\n",
    "        <wps:Data>\n",
    "        <wps:ComplexData>\"01-01-2000\"</wps:ComplexData>\n",
    "        </wps:Data>\n",
    "    </wps:Input>\n",
    "    <wps:Input>\n",
    "        <ows:Identifier>end</ows:Identifier>\n",
    "        <wps:Data>\n",
    "        <wps:ComplexData>\"2001\"</wps:ComplexData>\n",
    "        </wps:Data>\n",
    "    </wps:Input>\n",
    "    </wps:DataInputs>\n",
    "    <wps:ResponseForm>\n",
    "    <wps:ResponseDocument storeExecuteResponse=\"true\" status=\"true\"/>\n",
    "    </wps:ResponseForm>\n",
    "</wps:Execute>\n",
    "\"\"\"\n",
    "def request(geom):\n",
    "    return request_template % str(geom).replace(\"'\", '\"')"
   ]
  },
  {
   "cell_type": "markdown",
   "metadata": {},
   "source": [
    "For testing, we just want a few individual requests for the WPS, and to exclude any large polygons. There is also a simpler request example that only targets a pixel drill."
   ]
  },
  {
   "cell_type": "code",
   "execution_count": 4,
   "metadata": {},
   "outputs": [],
   "source": [
    "example_requests = ((i, request(poly)) for i, poly in generate_polygons(max_index=10, max_length=2000))"
   ]
  },
  {
   "cell_type": "code",
   "execution_count": 5,
   "metadata": {},
   "outputs": [],
   "source": [
    "dummy_template = \"\"\"<wps:Execute version=\"1.0.0\" service=\"WPS\" xmlns:xsi=\"http://www.w3.org/2001/XMLSchema-instance\" xmlns=\"http://www.opengis.net/wps/1.0.0\" xmlns:wfs=\"http://www.opengis.net/wfs\" xmlns:wps=\"http://www.opengis.net/wps/1.0.0\" xmlns:ows=\"http://www.opengis.net/ows/1.1\" xmlns:gml=\"http://www.opengis.net/gml\" xmlns:ogc=\"http://www.opengis.net/ogc\" xmlns:wcs=\"http://www.opengis.net/wcs/1.1.1\" xmlns:xlink=\"http://www.w3.org/1999/xlink\" xsi:schemaLocation=\"http://www.opengis.net/wps/1.0.0 http://schemas.opengis.net/wps/1.0.0/wpsAll.xsd\">\n",
    "    <ows:Identifier>WOfSDrill</ows:Identifier>\n",
    "    <wps:DataInputs>\n",
    "    <wps:Input>\n",
    "        <ows:Identifier>geometry</ows:Identifier>\n",
    "        <wps:Data>\n",
    "        <wps:ComplexData>{\"type\":\"FeatureCollection\",\"features\":[{\"type\":\"Feature\",\"geometry\":{\"type\":\"Point\",\"coordinates\":[146.85029736971987,-32.94459759906837,-1822.7196235501208]}}]}</wps:ComplexData>\n",
    "        </wps:Data>\n",
    "    </wps:Input>\n",
    "    </wps:DataInputs>\n",
    "    <wps:ResponseForm>\n",
    "    <wps:ResponseDocument storeExecuteResponse=\"true\" status=\"true\"/>\n",
    "    </wps:ResponseForm>\n",
    "</wps:Execute>\"\"\"\n",
    "\n",
    "dummy_requests = ((i, dummy_template) for i in range(4))"
   ]
  },
  {
   "cell_type": "markdown",
   "metadata": {},
   "source": [
    "Next, to poll the WPS for requests to be performed."
   ]
  },
  {
   "cell_type": "code",
   "execution_count": 6,
   "metadata": {},
   "outputs": [],
   "source": [
    "wps_url = 'https://ows.dev.dea.ga.gov.au/wps/?service=WPS&request=Execute'\n",
    "wps_headers = {'Content-Type': 'text/xml;charset=UTF-8', 'cache-control': 'max-age=0'}\n",
    "polling_interval = 2.0 # seconds"
   ]
  },
  {
   "cell_type": "code",
   "execution_count": 7,
   "metadata": {},
   "outputs": [
    {
     "name": "stdout",
     "output_type": "stream",
     "text": [
      "3 https://s3.ap-southeast-2.amazonaws.com/dea-dev-wps-results/68ba7cce-cfe8-11eb-b71e-d2ffc297f65f.xml\n",
      "2 https://s3.ap-southeast-2.amazonaws.com/dea-dev-wps-results/68dc3ada-cfe8-11eb-b71e-d2ffc297f65f.xml\n",
      "1 https://s3.ap-southeast-2.amazonaws.com/dea-dev-wps-results/68fcabf8-cfe8-11eb-b71e-d2ffc297f65f.xml\n",
      ".................................................................................................3 succeeded\n",
      ".2 succeeded\n",
      ".1 succeeded\n"
     ]
    }
   ],
   "source": [
    "# Concurrent requests\n",
    "async with aiohttp.ClientSession() as session:    \n",
    "    async def get(index, request_doc):\n",
    "        \"Execute a single request, through to completion\"\n",
    "        resp = await session.post(wps_url, data=request_doc, headers=wps_headers)\n",
    "        assert resp.status == 200\n",
    "        info = xmltodict.parse(await resp.text())\n",
    "        url = info['wps:ExecuteResponse']['@statusLocation']\n",
    "        print(str(index) + ' ' + url)\n",
    "        assert 'wps:ProcessAccepted' in info['wps:ExecuteResponse']['wps:Status'] \n",
    "        while {'wps:ProcessAccepted', 'wps:ProcessStarted'} & set(info['wps:ExecuteResponse']['wps:Status']):\n",
    "            await asyncio.sleep(polling_interval)\n",
    "            resp = await session.get(url)\n",
    "            assert resp.status == 200\n",
    "            info = xmltodict.parse(await resp.text())\n",
    "            print('.', end='', flush=True)\n",
    "        assert 'wps:ProcessSucceeded' in info['wps:ExecuteResponse']['wps:Status']\n",
    "        print(str(index) + \" succeeded\", flush=True)\n",
    "        return info['wps:ExecuteResponse']['wps:ProcessOutputs']['wps:Output']\n",
    "    \n",
    "    #result = await get(1, dummy_template) # test single requrest\n",
    "    \n",
    "    result = await asyncio.gather(get(1, dummy_template), \n",
    "                                  get(2, dummy_template), \n",
    "                                  get(3, dummy_template)) # test few requests\n",
    "    \n",
    "    \n",
    "    #concurrency_limit = asyncio.Semaphore(2) # run many requests\n",
    "    #loop = asyncio.get_event_loop()\n",
    "    #for i, doc in dummy_requests:\n",
    "    #    async with concurrency_limit:\n",
    "    #        loop.create_task(get(i, doc))"
   ]
  },
  {
   "cell_type": "code",
   "execution_count": null,
   "metadata": {},
   "outputs": [],
   "source": []
  },
  {
   "cell_type": "code",
   "execution_count": null,
   "metadata": {},
   "outputs": [],
   "source": []
  }
 ],
 "metadata": {
  "kernelspec": {
   "display_name": "Python 3",
   "language": "python",
   "name": "python3"
  },
  "language_info": {
   "codemirror_mode": {
    "name": "ipython",
    "version": 3
   },
   "file_extension": ".py",
   "mimetype": "text/x-python",
   "name": "python",
   "nbconvert_exporter": "python",
   "pygments_lexer": "ipython3",
   "version": "3.6.10"
  }
 },
 "nbformat": 4,
 "nbformat_minor": 4
}
