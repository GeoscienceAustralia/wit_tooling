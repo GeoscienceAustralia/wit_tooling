{
 "cells": [
  {
   "cell_type": "code",
   "execution_count": null,
   "metadata": {},
   "outputs": [],
   "source": [
    "from wit_tooling import load_wit_s3, plot_to_png, set_output_name\n",
    "import boto3\n",
    "import fiona\n",
    "import awswrangler as wr"
   ]
  },
  {
   "cell_type": "code",
   "execution_count": null,
   "metadata": {},
   "outputs": [],
   "source": [
    "session = boto3.Session(profile_name='dev')\n",
    "s3_client = session.client('s3')"
   ]
  },
  {
   "cell_type": "code",
   "execution_count": null,
   "metadata": {},
   "outputs": [],
   "source": [
    "db_name = 'wit_test'\n",
    "print(wr.catalog.tables(database=db_name, boto3_session=session))\n",
    "if db_name not in wr.catalog.databases(boto3_session=session).values:\n",
    "    wr.catalog.create_database(db_name, boto3_session=session)\n",
    "table_name = 'data_lock_4'\n",
    "wit_path = \"s3://dea-wit-dev/c3-samples-3577/lock_4/\"\n",
    "wr.s3.store_parquet_metadata(path=wit_path, database=db_name, table=table_name, dataset=False, mode='overwrite', boto3_session=session)"
   ]
  },
  {
   "cell_type": "code",
   "execution_count": null,
   "metadata": {},
   "outputs": [],
   "source": [
    "shapefile = './shapefiles/Lock_4_Floodplain_25062021.shp'\n",
    "bucket_name = 'dea-wit-dev'\n",
    "key_prefix = 'delivery/lock_4/floodplain/'\n",
    "s3_path = 's3://' + '/'.join([bucket_name, key_prefix])"
   ]
  },
  {
   "cell_type": "code",
   "execution_count": null,
   "metadata": {},
   "outputs": [],
   "source": [
    "with fiona.open(shapefile) as allshapes:\n",
    "    for shape in iter(allshapes):\n",
    "        img_name = set_output_name(shape, ['ID'])\n",
    "        wit_data = load_wit_s3(shape['geometry'], db_name, table_name, session)\n",
    "        b_img = plot_to_png(wit_data.to_numpy(), img_name)\n",
    "        s3_client.put_object(Body=b_img, Bucket=bucket_name, Key=key_prefix+img_name+'.png')\n",
    "        wr.s3.to_csv(wit_data, path=s3_path+img_name+'.csv', boto3_session=session)"
   ]
  },
  {
   "cell_type": "code",
   "execution_count": null,
   "metadata": {},
   "outputs": [],
   "source": [
    "wr.s3.list_objects('s3://dea-wit-dev/delivery/', boto3_session=session)"
   ]
  }
 ],
 "metadata": {
  "kernelspec": {
   "display_name": "Python 3",
   "language": "python",
   "name": "python3"
  },
  "language_info": {
   "codemirror_mode": {
    "name": "ipython",
    "version": 3
   },
   "file_extension": ".py",
   "mimetype": "text/x-python",
   "name": "python",
   "nbconvert_exporter": "python",
   "pygments_lexer": "ipython3",
   "version": "3.6.9"
  }
 },
 "nbformat": 4,
 "nbformat_minor": 4
}
