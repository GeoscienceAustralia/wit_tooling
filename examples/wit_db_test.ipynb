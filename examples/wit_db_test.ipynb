{
 "cells": [
  {
   "cell_type": "code",
   "execution_count": null,
   "metadata": {},
   "outputs": [],
   "source": [
    "import fiona\n",
    "import numpy as np\n",
    "import pandas as pd\n",
    "from wit_tooling import *\n",
    "from wit_tooling.database.io import DIO\n",
    "from datetime import datetime\n",
    "dio = DIO.get()"
   ]
  },
  {
   "cell_type": "code",
   "execution_count": null,
   "metadata": {},
   "outputs": [],
   "source": [
    "for i in range(1000, 10000, 1000):\n",
    "    poly_list = np.random.uniform(0, 10000, i).astype(int)\n",
    "    poly_list = list(poly_list)\n",
    "    print(\"query amount\", len(poly_list))\n",
    "    start_time = datetime.now()\n",
    "    source = get_inundation(poly_list, 1987, 2000, 50, 5000)\n",
    "    print(\"query finish in\", datetime.now() - start_time)"
   ]
  }
 ],
 "metadata": {
  "kernelspec": {
   "display_name": "Python 3",
   "language": "python",
   "name": "python3"
  },
  "language_info": {
   "codemirror_mode": {
    "name": "ipython",
    "version": 3
   },
   "file_extension": ".py",
   "mimetype": "text/x-python",
   "name": "python",
   "nbconvert_exporter": "python",
   "pygments_lexer": "ipython3",
   "version": "3.7.4"
  }
 },
 "nbformat": 4,
 "nbformat_minor": 2
}
