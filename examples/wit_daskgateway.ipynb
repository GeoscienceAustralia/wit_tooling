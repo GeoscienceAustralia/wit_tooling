{
 "cells": [
  {
   "cell_type": "code",
   "execution_count": null,
   "metadata": {},
   "outputs": [],
   "source": [
    "from datacube import Datacube\n",
    "from datacube.virtual.impl import VirtualDatasetBox\n",
    "from datacube.virtual import construct\n",
    "from datacube.utils.geometry import CRS, Geometry\n",
    "from datacube.utils.geometry.gbox import GeoboxTiles\n",
    "import boto3\n",
    "import os\n",
    "import fiona\n",
    "import yaml\n",
    "import numpy as np\n",
    "import pandas as pd\n",
    "from datetime import datetime\n",
    "from shapely import ops, geometry\n",
    "import pyproj\n",
    "from multiprocessing import Pool, Process"
   ]
  },
  {
   "cell_type": "code",
   "execution_count": null,
   "metadata": {},
   "outputs": [],
   "source": [
    "from datacube_wps.processes.witprocess import *\n",
    "from dea_tools.dask import create_dask_gateway_cluster\n",
    "#from datacube.utils.aws import configure_s3_access"
   ]
  },
  {
   "cell_type": "code",
   "execution_count": null,
   "metadata": {},
   "outputs": [],
   "source": [
    "import awswrangler as wr"
   ]
  },
  {
   "cell_type": "code",
   "execution_count": null,
   "metadata": {},
   "outputs": [],
   "source": [
    "from dask_gateway import Gateway\n",
    "gateway = Gateway()\n",
    "cluster_names = gateway.list_clusters()\n",
    "print(\"cluster still runing\", cluster_names)\n",
    "for n in cluster_names:\n",
    "    cluster = gateway.connect(n.name)\n",
    "    cluster.shutdown()"
   ]
  },
  {
   "cell_type": "code",
   "execution_count": null,
   "metadata": {},
   "outputs": [],
   "source": [
    "options = gateway.cluster_options()\n",
    "\n",
    "options['profile'] = 'r5_L'\n",
    "options['jupyterhub_user'] = os.getenv('JUPYTERHUB_USER')\n",
    "\n",
    "cluster = gateway.new_cluster(options)\n",
    "\n",
    "cluster.adapt(minimum=1, maximum=10)\n",
    "\n",
    "cluster"
   ]
  },
  {
   "cell_type": "code",
   "execution_count": null,
   "metadata": {},
   "outputs": [],
   "source": [
    "client = cluster.get_client()"
   ]
  },
  {
   "cell_type": "code",
   "execution_count": null,
   "metadata": {},
   "outputs": [],
   "source": [
    "client"
   ]
  },
  {
   "cell_type": "code",
   "execution_count": null,
   "metadata": {},
   "outputs": [],
   "source": [
    "client.close()"
   ]
  },
  {
   "cell_type": "code",
   "execution_count": null,
   "metadata": {},
   "outputs": [],
   "source": [
    "session = boto3.Session(profile_name='dev')\n",
    "landsat_shapefile = '../auxfiles/landsat_au/landsat_au.shp'"
   ]
  },
  {
   "cell_type": "code",
   "execution_count": null,
   "metadata": {},
   "outputs": [],
   "source": [
    "def shape_list(shapefile):\n",
    "    with fiona.open(shapefile) as allshapes:\n",
    "        for shape in allshapes:\n",
    "            yield(shape)"
   ]
  },
  {
   "cell_type": "code",
   "execution_count": null,
   "metadata": {},
   "outputs": [],
   "source": [
    "def intersect_landsat_pathrow(shapefile_name, landsat_shapefile):\n",
    "    output_list = []\n",
    "    project = pyproj.Transformer.from_crs(\"EPSG:4326\", \"EPSG:3577\", always_xy=True).transform\n",
    "    for input_shape in shape_list(shapefile_name):\n",
    "        non_contain = True\n",
    "        input_poly = geometry.shape(input_shape['geometry'])\n",
    "        for l_shape in shape_list(landsat_shapefile):\n",
    "            overlap = ops.transform(project,  geometry.shape(l_shape['geometry'])).intersection(input_poly)\n",
    "            if overlap.area > 0:\n",
    "                if overlap.area / input_poly.area > 0.9:\n",
    "                    non_contain = False\n",
    "                    output_list += [(input_shape, 1)]\n",
    "        if non_contain:\n",
    "            output_list += [(input_shape, 15)]\n",
    "    return output_list"
   ]
  },
  {
   "cell_type": "code",
   "execution_count": null,
   "metadata": {},
   "outputs": [],
   "source": [
    "shapefile_name = './shapefiles/Lock_4_Floodplain_25062021.shp'\n",
    "wit_path = 's3://dea-wit-dev/c3-samples-3577/Lock_4_Floodplain_25062021/'\n",
    "# shapefile_name = 'qld_shapefile/Queensland_dominant_wetland_areas_22042020.shp'"
   ]
  },
  {
   "cell_type": "code",
   "execution_count": null,
   "metadata": {},
   "outputs": [],
   "source": [
    "shape_set = intersect_landsat_pathrow(shapefile_name, landsat_shapefile)"
   ]
  },
  {
   "cell_type": "code",
   "execution_count": null,
   "metadata": {},
   "outputs": [],
   "source": [
    "from wit_compute import compute_wit\n",
    "import time"
   ]
  },
  {
   "cell_type": "code",
   "execution_count": null,
   "metadata": {},
   "outputs": [],
   "source": [
    "def first_process():\n",
    "    print(\"do nothing\")\n",
    "    return"
   ]
  },
  {
   "cell_type": "code",
   "execution_count": null,
   "metadata": {},
   "outputs": [],
   "source": [
    "# run this if parallel\n",
    "if __name__ == '__main__':\n",
    "    p_list = []\n",
    "    p = Process(target=first_process)\n",
    "    p.start()\n",
    "    p_list += [p]\n",
    "    for i in range(len(shape_set)):\n",
    "        p = Process(target=compute_wit, args=(shape_set[i], ('1987-01-01', '2022-01-01'), wit_path))\n",
    "        p.start()\n",
    "        p_list += [p]\n",
    "    \n",
    "    print(p_list)\n",
    "    for p in p_list:\n",
    "        print(p)\n",
    "        p.join()"
   ]
  },
  {
   "cell_type": "code",
   "execution_count": null,
   "metadata": {},
   "outputs": [],
   "source": [
    "# run this for a single polygon\n",
    "compute_wit(shape_set[5], ('1987-01-01', '2022-01-01'), wit_path)"
   ]
  }
 ],
 "metadata": {
  "kernelspec": {
   "display_name": "Python 3",
   "language": "python",
   "name": "python3"
  },
  "language_info": {
   "codemirror_mode": {
    "name": "ipython",
    "version": 3
   },
   "file_extension": ".py",
   "mimetype": "text/x-python",
   "name": "python",
   "nbconvert_exporter": "python",
   "pygments_lexer": "ipython3",
   "version": "3.6.9"
  }
 },
 "nbformat": 4,
 "nbformat_minor": 4
}
