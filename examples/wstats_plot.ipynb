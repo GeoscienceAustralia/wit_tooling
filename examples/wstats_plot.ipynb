{
 "cells": [
  {
   "cell_type": "code",
   "execution_count": null,
   "metadata": {},
   "outputs": [],
   "source": [
    "import fiona\n",
    "import numpy as np\n",
    "import pandas as pd\n",
    "from wit_tooling import *\n",
    "from wit_tooling.database.io import DIO\n",
    "from datetime import datetime\n",
    "dio = DIO.get()"
   ]
  },
  {
   "cell_type": "code",
   "execution_count": null,
   "metadata": {
    "scrolled": true
   },
   "outputs": [],
   "source": [
    "# the necessaties for bokeh plot \n",
    "from ipywidgets import interact\n",
    "from IPython.display import display\n",
    "from bokeh.io import output_notebook, push_notebook, show\n",
    "from bokeh.layouts import layout\n",
    "from bokeh.models import YearsTicker,DatetimeTickFormatter, Legend, Button, CategoricalColorMapper, ColumnDataSource,HoverTool, Label, SingleIntervalTicker, Slider\n",
    "from bokeh.palettes import plasma, Spectral6\n",
    "from bokeh.plotting import figure\n",
    "from bokeh.transform import factor_cmap\n",
    "output_notebook()"
   ]
  },
  {
   "cell_type": "code",
   "execution_count": null,
   "metadata": {},
   "outputs": [],
   "source": [
    "# there are 26 catchments in the database you can have all\n",
    "catchment_list = dict()\n",
    "for i in range(26): \n",
    "    catchment_name= dio.get_name_by_id('catchments', i+1)[0][0] \n",
    "    if catchment_name == '': \n",
    "        continue\n",
    "    catchment_list[i+1] = catchment_name\n",
    "print(catchment_list)"
   ]
  },
  {
   "cell_type": "code",
   "execution_count": null,
   "metadata": {
    "scrolled": true
   },
   "outputs": [],
   "source": [
    "# pick the polygons included by one/some catchment(s), don't pick too many though\n",
    "# or else...you can have a try to see...\n",
    "rows = dio.get_polys_by_catchment_id(1, 5000) \n",
    "poly_list = list(np.array(rows)[:,0])\n",
    "print(poly_list)"
   ]
  },
  {
   "cell_type": "code",
   "execution_count": null,
   "metadata": {
    "scrolled": true
   },
   "outputs": [],
   "source": [
    "# start from here you can do a lot of things with polygons\n",
    "# e.g. plot the stack plot as we did\n",
    "# pick a poly_id from poly_list above\n",
    "poly_id = poly_list[0]\n",
    "# get the data\n",
    "poly_data = get_area_by_poly_id(int(poly_id))\n",
    "# get the name\n",
    "poly_name = dio.get_name_by_id(\"polygons\", int(poly_id))[0][0]\n",
    "print(poly_name)\n",
    "print(poly_data)\n",
    "# tidy up a bit\n",
    "poly_area = poly_data.area.unique()[0]\n",
    "poly_data = poly_data.drop(columns=['area'])"
   ]
  },
  {
   "cell_type": "code",
   "execution_count": null,
   "metadata": {},
   "outputs": [],
   "source": [
    "# find a polygon from your shape file and match one in the database\n",
    "shapefile = \"/g/data/u46/users/ea6141/wlinsight/shapefiles/LTIMRamsarProj_3577.shp\"\n",
    "\n",
    "with fiona.open(shapefile) as allshapes:\n",
    "    start_f = iter(allshapes)\n",
    "    while True:\n",
    "        shape = next(start_f)\n",
    "        feature_id = int(shape['id'])\n",
    "        print(feature_id)\n",
    "        object_id = int(shape['properties']['OBJECTID'])\n",
    "        if feature_id != 1:\n",
    "            continue\n",
    "        # or it could be object id in the properties of the polygon\n",
    "        # if object_id != XX:\n",
    "        #     continue\n",
    "        poly_name, count = query_wit_data(shape)\n",
    "        break\n"
   ]
  },
  {
   "cell_type": "code",
   "execution_count": null,
   "metadata": {},
   "outputs": [],
   "source": [
    "# save the csv and the plot\n",
    "output_path = './'\n",
    "pd.DataFrame(data=count, columns=['TIME', 'BS', 'NPV', 'PV', 'WET', 'WATER']).to_csv(output_path+str(shape['id'])+'.csv', index=False)\n",
    "b_image = plot_to_png(count, poly_name)\n",
    "with open(output_path+str(shape['id'])+'.png', 'wb') as f:\n",
    "    f.write(b_image.read())\n"
   ]
  },
  {
   "cell_type": "code",
   "execution_count": null,
   "metadata": {},
   "outputs": [],
   "source": [
    "# now plot\n",
    "sub_plot = figure(y_range=(0, poly_area), x_range=(poly_data['time'].min(), poly_data['time'].max()), title=poly_name,\n",
    "        plot_height=200, plot_width=900, sizing_mode='stretch_width')\n",
    "\n",
    "sub_plot.xaxis.formatter = DatetimeTickFormatter()\n",
    "sub_plot.xaxis.ticker = YearsTicker(interval=1)\n",
    "sub_plot.yaxis.axis_label = \"Area (hectare)\"\n",
    "\n",
    "pal = [ '#030aa7',\n",
    "        '#04d9ff',\n",
    "        '#3f9b0b',\n",
    "        '#e6daa6',\n",
    "        '#60460f'\n",
    "    ]\n",
    "v_stack = sub_plot.varea_stack(['open water', 'wet', 'green veg', 'dry veg', 'bare soil'], x='time',\n",
    "                         color=pal, source=poly_data, alpha=0.6)\n",
    "legend = Legend(items=[\n",
    "(\"bare soil\", [v_stack[4]]),\n",
    "(\"dry veg\", [v_stack[3]]),\n",
    "(\"green veg\", [v_stack[2]]),\n",
    "(\"wet\", [v_stack[1]]),\n",
    "(\"open water\", [v_stack[0]]),\n",
    "], location=\"top_left\")\n",
    "\n",
    "sub_plot.add_layout(legend, 'left')\n",
    "show(sub_plot)"
   ]
  },
  {
   "cell_type": "code",
   "execution_count": null,
   "metadata": {
    "scrolled": false
   },
   "outputs": [],
   "source": [
    "# here you can get all time metrics for one/some polygon(s)\n",
    "results = get_alltime_metrics(poly_list[1:5])\n",
    "print(results)"
   ]
  },
  {
   "cell_type": "code",
   "execution_count": null,
   "metadata": {
    "scrolled": false
   },
   "outputs": [],
   "source": [
    "# here you get yearly metrics for one/some polygon(s)\n",
    "results = get_wet_year_metrics(poly_list[1:5])\n",
    "print(results)"
   ]
  },
  {
   "cell_type": "code",
   "execution_count": null,
   "metadata": {},
   "outputs": [],
   "source": [
    "results = get_pv_year_metrics(poly_list[0:500])\n",
    "print(results)"
   ]
  },
  {
   "cell_type": "code",
   "execution_count": null,
   "metadata": {},
   "outputs": [],
   "source": [
    "results = get_year_metrics_with_type_area(poly_list[0:500])"
   ]
  },
  {
   "cell_type": "code",
   "execution_count": null,
   "metadata": {},
   "outputs": [],
   "source": [
    "results"
   ]
  },
  {
   "cell_type": "code",
   "execution_count": null,
   "metadata": {},
   "outputs": [],
   "source": [
    "results.area = results.area/100 * np.pi"
   ]
  },
  {
   "cell_type": "code",
   "execution_count": null,
   "metadata": {},
   "outputs": [],
   "source": [
    "plot = figure(y_range=(0, 1), \n",
    "              x_range=(0, 1), title='DN', plot_height=700, plot_width=900)\n",
    "plot.xaxis.ticker = SingleIntervalTicker(interval=0.1)\n",
    "plot.xaxis.axis_label = \"Water\"\n",
    "plot.yaxis.ticker = SingleIntervalTicker(interval=0.1)\n",
    "plot.yaxis.axis_label = \"PV\"\n",
    "\n",
    "#label = Label(x=1.1, y=18, text=str(years[0]), text_font_size='70pt', text_color='#eeeeee')\n",
    "#plot.add_layout(label)\n",
    "color_map = plasma(len(results.type.unique()))\n",
    "catchment_list = tuple(results.type.unique())\n",
    "print(color_map)\n",
    "color_mapper = factor_cmap('type', palette=color_map, factors=catchment_list)\n",
    "#color_mapper = CategoricalColorMapper(palette=color_map, factors=catchment_list)\n",
    "d = plot.circle(\n",
    "    x='water_max',\n",
    "    y='pv_max',\n",
    "    size='area',\n",
    "    source = results.loc[(results.year==1988) & (results.type.isin(['Palustrine', 'Lacustrine']))],\n",
    "    fill_color=color_mapper,\n",
    "    fill_alpha=0.5,\n",
    "    line_color='#7c7e71',\n",
    "    line_width=0.5,\n",
    "    line_alpha=0.5,\n",
    "    legend_field='type'\n",
    ")\n",
    "\n",
    "plot.legend.location = \"top_left\"\n",
    "plot.legend.click_policy=\"mute\""
   ]
  },
  {
   "cell_type": "code",
   "execution_count": null,
   "metadata": {},
   "outputs": [],
   "source": [
    "show(plot, notebook_handle=True)"
   ]
  },
  {
   "cell_type": "code",
   "execution_count": null,
   "metadata": {},
   "outputs": [],
   "source": [
    "def yearly_plot(year=1987, wtype=['Palustrine', 'Lacustrine']):\n",
    "    if wtype == ['Palustrine', 'Lacustrine']:\n",
    "        d.glyph.y = 'wet_max'\n",
    "        plot.yaxis.axis_label = \"Wet\"\n",
    "    else:\n",
    "        d.glyph.y = 'pv_max'\n",
    "        plot.yaxis.axis_label = \"PV\"\n",
    "    d.data_source.data = results.loc[(results.year==year) & (results.type.isin(wtype))]\n",
    "    push_notebook()"
   ]
  },
  {
   "cell_type": "code",
   "execution_count": null,
   "metadata": {},
   "outputs": [],
   "source": [
    "interact(yearly_plot, year=(1987, 2019), wtype=[('all', list(results.type.unique())),\n",
    "                                                ('PL', ['Palustrine', 'Lacustrine']),\n",
    "                                               ('b', ['Floodplain'])])"
   ]
  },
  {
   "cell_type": "code",
   "execution_count": null,
   "metadata": {},
   "outputs": [],
   "source": [
    "# here starts the piece how we do fancy plot of inundation\n",
    "def inundation_by_catchment(start_year, end_year):\n",
    "    source = None\n",
    "    for i in range(2):\n",
    "        rows = dio.get_polys_by_catchment_id(i+1, 10000)\n",
    "        poly_list = list(np.array(rows)[:,0])\n",
    "        print(len(poly_list))\n",
    "        if source is None:\n",
    "            start_time = datetime.now()\n",
    "            source = get_inundation(poly_list, start_year, end_year, 50, 1000)\n",
    "            print(\"end query in\", datetime.now()-start_time)\n",
    "            source['catchment'] = str(i+1)\n",
    "        else:\n",
    "            start_time = datetime.now()\n",
    "            tmp = get_inundation(poly_list, start_year, end_year, 50, 1000)\n",
    "            print(\"end query in\", datetime.now()-start_time)\n",
    "            tmp['catchment'] = str(i+1)\n",
    "            source = pd.concat([source, tmp], ignore_index=True)\n",
    "    return source"
   ]
  },
  {
   "cell_type": "code",
   "execution_count": null,
   "metadata": {
    "scrolled": true
   },
   "outputs": [],
   "source": [
    "decades = [(1990, 2000), (2000, 2010), (2010, 2020)]\n",
    "source = None\n",
    "for d in decades:\n",
    "    if source is None:\n",
    "        source = inundation_by_catchment(d[0], d[1])\n",
    "        source['decade'] = d[1]\n",
    "    else:\n",
    "        tmp = inundation_by_catchment(d[0], d[1])\n",
    "        tmp['decade'] = d[1]\n",
    "        source = pd.concat([source, tmp], ignore_index=True)"
   ]
  },
  {
   "cell_type": "code",
   "execution_count": null,
   "metadata": {},
   "outputs": [],
   "source": [
    "source.percent = source.percent * 100\n",
    "source.area = source.area/100 * np.pi"
   ]
  },
  {
   "cell_type": "code",
   "execution_count": null,
   "metadata": {
    "scrolled": false
   },
   "outputs": [],
   "source": [
    "source[source.decade==2020]"
   ]
  },
  {
   "cell_type": "code",
   "execution_count": null,
   "metadata": {},
   "outputs": [],
   "source": [
    "plot = figure(y_range=(0, 100), \n",
    "              x_range=(0, 12), title='Inundation', plot_height=700, plot_width=900)\n",
    "plot.xaxis.ticker = SingleIntervalTicker(interval=1)\n",
    "plot.xaxis.axis_label = \"Years\"\n",
    "plot.yaxis.ticker = SingleIntervalTicker(interval=10)\n",
    "plot.yaxis.axis_label = \"Percent\"\n",
    "\n",
    "#label = Label(x=1.1, y=18, text=str(years[0]), text_font_size='70pt', text_color='#eeeeee')\n",
    "#plot.add_layout(label)\n",
    "color_map = plasma(len(source.catchment.unique()))\n",
    "catchment_list = tuple(source.catchment.unique())\n",
    "print(color_map)\n",
    "color_mapper = factor_cmap('catchment', palette=color_map, factors=catchment_list)\n",
    "#color_mapper = CategoricalColorMapper(palette=color_map, factors=catchment_list)\n",
    "c = plot.circle(\n",
    "    x='wet_years',\n",
    "    y='percent',\n",
    "    size='area',\n",
    "    source = source[source.decade==2000],\n",
    "    fill_color=color_mapper,\n",
    "    fill_alpha=0.5,\n",
    "    line_color='#7c7e71',\n",
    "    line_width=0.5,\n",
    "    line_alpha=0.5,\n",
    "    legend_field='catchment'\n",
    ")\n",
    "\n",
    "plot.legend.location = \"top_left\"\n",
    "plot.legend.click_policy=\"mute\""
   ]
  },
  {
   "cell_type": "code",
   "execution_count": null,
   "metadata": {},
   "outputs": [],
   "source": [
    "def update_plot(decade=2000):\n",
    "    c.data_source.data = source[source.decade==decade]\n",
    "    push_notebook()"
   ]
  },
  {
   "cell_type": "code",
   "execution_count": null,
   "metadata": {},
   "outputs": [],
   "source": [
    "interact(update_plot, decade=[2000, 2010, 2020])"
   ]
  },
  {
   "cell_type": "code",
   "execution_count": null,
   "metadata": {
    "scrolled": false
   },
   "outputs": [],
   "source": [
    "show(plot, notebook_handle=True)"
   ]
  }
 ],
 "metadata": {
  "kernelspec": {
   "display_name": "Python 3",
   "language": "python",
   "name": "python3"
  },
  "language_info": {
   "codemirror_mode": {
    "name": "ipython",
    "version": 3
   },
   "file_extension": ".py",
   "mimetype": "text/x-python",
   "name": "python",
   "nbconvert_exporter": "python",
   "pygments_lexer": "ipython3",
   "version": "3.7.4"
  }
 },
 "nbformat": 4,
 "nbformat_minor": 2
}
