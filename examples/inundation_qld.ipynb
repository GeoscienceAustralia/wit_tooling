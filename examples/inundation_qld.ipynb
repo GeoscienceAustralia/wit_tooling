{
 "cells": [
  {
   "cell_type": "markdown",
   "metadata": {},
   "source": [
    "# QLD Wetlands database plots <img align=\"right\" src=\"../../../Supplementary_data/dea_logo.jpg\">"
   ]
  },
  {
   "cell_type": "markdown",
   "metadata": {},
   "source": [
    "### Load packages\n",
    "Import Python packages that are used for the analysis."
   ]
  },
  {
   "cell_type": "code",
   "execution_count": null,
   "metadata": {},
   "outputs": [],
   "source": [
    "import fiona\n",
    "import numpy as np\n",
    "import pandas as pd\n",
    "import os, sys, urllib\n",
    "\n",
    "#add path to module so that we can re-run the notebook\n",
    "sys.path.append('../../wit_tooling/')\n",
    "from wit_tooling import *\n",
    "from wit_tooling.database.io import DIO\n",
    "from datetime import datetime\n",
    "import pandas as pd\n",
    "\n",
    "from bokeh.io import curdoc, output_notebook, show\n",
    "from bokeh.layouts import layout, column, row, WidgetBox, gridplot\n",
    "from bokeh.models import Button, CheckboxGroup, Select,  CategoricalColorMapper, ColumnDataSource,HoverTool, Label, SingleIntervalTicker, Slider, DatetimeTickFormatter, YearsTicker, Legend, TapTool, CustomJS, LegendItem, field\n",
    "from bokeh.palettes import plasma\n",
    "from bokeh.plotting import figure\n",
    "from bokeh.transform import factor_cmap\n",
    "from bokeh.events import DoubleTap\n",
    "import os, sys, urllib"
   ]
  },
  {
   "cell_type": "markdown",
   "metadata": {},
   "source": [
    "### Connect to the database"
   ]
  },
  {
   "cell_type": "code",
   "execution_count": null,
   "metadata": {},
   "outputs": [],
   "source": [
    "#information to connect to the database\n",
    "os.environ['WIT_DB_HOSTNAME'] = 'wit-test-emma.cxhoeczwhtar.ap-southeast-2.rds.amazonaws.com'\n",
    "os.environ['DB_USERNAME'] = 'dbreader'\n",
    "os.environ['DB_PASSWORD'] = '993ffd204851bcb700e62a65eac8c48e'\n",
    "\n",
    "output_notebook()\n",
    "dio = DIO.get()"
   ]
  },
  {
   "cell_type": "markdown",
   "metadata": {},
   "source": [
    "### Analysis parameters\n",
    "\n",
    "Configurable parameters needed to run this notebook:\n",
    "\n",
    "* `scale_factor`: A scale factor controlling bubble size in the plot. 100 is standard, smaller numbers = bigger bubbles."
   ]
  },
  {
   "cell_type": "code",
   "execution_count": null,
   "metadata": {},
   "outputs": [],
   "source": [
    "#setting up parameters for QLD data\n",
    "j_list = {'QLD':'Queensland'}\n",
    "j_name = j_list['QLD']"
   ]
  },
  {
   "cell_type": "code",
   "execution_count": null,
   "metadata": {},
   "outputs": [],
   "source": [
    "def inundation_by_catchment(vague_string, start_year, end_year):\n",
    "    source = None\n",
    "    catchment_list = dio.get_catchment_list(vague_string)\n",
    "    for catchment_id, catchment_name in catchment_list:\n",
    "        print(\"catchment id\", catchment_id)\n",
    "        rows = dio.get_polys_by_catchment_id(catchment_id, vague_string, 5000) \n",
    "        poly_list = list(np.array(rows)[:,0])\n",
    "        print(len(poly_list))\n",
    "        if source is None:\n",
    "            start_time = datetime.now()\n",
    "            source = get_inundation(poly_list, start_year, end_year, 50, 1000)\n",
    "            print(\"end query in\", datetime.now()-start_time)\n",
    "            source['catchment'] = catchment_name\n",
    "        else:\n",
    "            start_time = datetime.now()\n",
    "            tmp = get_inundation(poly_list, start_year, end_year, 50, 1000)\n",
    "            print(\"end query in\", datetime.now()-start_time)\n",
    "            tmp['catchment'] = catchment_name\n",
    "            source = pd.concat([source, tmp], ignore_index=True)\n",
    "    return source"
   ]
  },
  {
   "cell_type": "code",
   "execution_count": null,
   "metadata": {
    "scrolled": true
   },
   "outputs": [],
   "source": [
    "decades = [(1990, 2000), (2000, 2010), (2010, 2020)]\n",
    "data = None\n",
    "for d in decades:\n",
    "    if data is None:\n",
    "        data = inundation_by_catchment(j_name, d[0], d[1])\n",
    "        data['decade'] = d[1]\n",
    "    else:\n",
    "        tmp = inundation_by_catchment(j_name, d[0], d[1])\n",
    "        tmp['decade'] = d[1]\n",
    "        data = pd.concat([data, tmp], ignore_index=True)\n",
    "\n",
    "data.percent = data.percent * 100"
   ]
  },
  {
   "cell_type": "code",
   "execution_count": null,
   "metadata": {},
   "outputs": [],
   "source": [
    "#sort dataframe alphabetically by catchment, in order to make the plots easier to navigate\n",
    "data = data.sort_values('catchment')"
   ]
  },
  {
   "cell_type": "code",
   "execution_count": null,
   "metadata": {},
   "outputs": [],
   "source": [
    "### Change bubble plot scaling manually (for catchments with a lot of smaller wetlands or a lot of larger ones)\n",
    "def bubble_size(data, scale_factor=100):\n",
    "    '''Function to adjust the bubble plot size to make viewing easier. Catchments with a lot of smaller wetlands or a lot of larger ones may want the scale factor decreased or increased respectively.\n",
    "       Parameters:\n",
    "       -----------\n",
    "       data : an input pandas dataframe containing area and poly_name columns\n",
    "       scale_factor: an integer scale factor used to divide the area by in order to calculate a bubble size for the bubble plot.\n",
    "       Increase scale_factor to make the bubbles smaller, decrease scale_factor to make the bubbles larger\n",
    "       '''\n",
    "    data.area = data.area/int(scale_factor) * np.pi\n",
    " \n",
    "    return data.area"
   ]
  },
  {
   "cell_type": "code",
   "execution_count": null,
   "metadata": {
    "scrolled": true
   },
   "outputs": [],
   "source": [
    "data.poly_name = data.poly_name.astype('str')"
   ]
  },
  {
   "cell_type": "code",
   "execution_count": null,
   "metadata": {},
   "outputs": [],
   "source": [
    "data.area = bubble_size(data, scale_factor=100)"
   ]
  },
  {
   "cell_type": "code",
   "execution_count": null,
   "metadata": {},
   "outputs": [],
   "source": [
    "poly_id = data.poly_id.iloc[0]\n",
    "poly_data = get_area_by_poly_id(int(poly_id))\n",
    "poly_area = poly_data.area.unique()[0]\n",
    "poly_data = poly_data.drop(columns=['area'])"
   ]
  },
  {
   "cell_type": "code",
   "execution_count": null,
   "metadata": {},
   "outputs": [],
   "source": [
    "def plot_doc(doc):\n",
    "    #tell bokeh where to get the data (the pandas dataframe \"data\")\n",
    "    source = ColumnDataSource(data=data[data.decade==2020])\n",
    "    #poly_data contains the WIT results per timestep \n",
    "    single_source = ColumnDataSource(data=poly_data)\n",
    "    #gets the polygon id from a dictionary of the poly_ids??\n",
    "    poly_id_source = ColumnDataSource(data=dict(poly_id=[]))\n",
    "\n",
    "    catchment_list = list(data.catchment.unique())\n",
    "    color_map = plasma(len(catchment_list))\n",
    "    plot = figure(y_range=(0, 100), x_range=(0, 11), title='Inundation', tools=\"tap\", plot_height=600, plot_width=500, sizing_mode='scale_both')\n",
    "    plot.xaxis.ticker = SingleIntervalTicker(interval=1)\n",
    "    plot.xaxis.axis_label = \"Occurence in Years\"\n",
    "    plot.yaxis.ticker = SingleIntervalTicker(interval=10)\n",
    "    plot.yaxis.axis_label = \"Percent of Duration\"\n",
    "\n",
    "    label = Label(x=1.1, y=18, text='2010-2020', text_font_size='70pt', text_color='#eeeeee')\n",
    "    plot.add_layout(label)\n",
    "    color_mapper = factor_cmap('catchment', palette=color_map, factors=catchment_list)\n",
    "    cc = plot.circle(\n",
    "                x='wet_years',\n",
    "                y='percent',\n",
    "                size='area',\n",
    "                source = source,\n",
    "                fill_color=color_mapper,\n",
    "                fill_alpha=0.5,\n",
    "                line_color='#7c7e71',\n",
    "                line_width=0.5,\n",
    "                line_alpha=0.5,\n",
    "                )\n",
    "    catchment_legend = Legend(items=[LegendItem(label=field('catchment'), renderers=[cc])], label_text_font_size = '10pt', location=\"top_left\")\n",
    "    # this one is not working for single glypy\n",
    "    #catchment_legend.click_policy=\"hide\"\n",
    "    plot.add_layout(catchment_legend, 'left')\n",
    "\n",
    "    def poly_update(attrname, old, new):\n",
    "        poly_id = poly_select.value\n",
    "        if poly_id == '':\n",
    "            return\n",
    "        poly_data = get_area_by_poly_id(int(poly_id))\n",
    "        poly_area = poly_data.area.unique()[0]\n",
    "        poly_data = poly_data.drop(columns=['area'])\n",
    "        sub_plot.y_range.end = poly_area\n",
    "        sub_plot.x_range.start = poly_data.time.min()\n",
    "        sub_plot.x_range.end = poly_data.time.max()\n",
    "        single_source.data = poly_data\n",
    "        sub_plot.title.text = data.poly_name.loc[data.poly_id == int(poly_id)].iloc[0]\n",
    "\n",
    "    poly_select = Select(title=\"Polygons\", value='', options=[''], height=50, width=100, sizing_mode=\"fixed\")\n",
    "    poly_select.on_change('value', poly_update)\n",
    "\n",
    "    js_code = \"\"\"\n",
    "        const inds=cb_obj.indices;\n",
    "        var data_s = source.data;\n",
    "        var data_d = target.data;\n",
    "        data_d['poly_id'] = [];\n",
    "        for (var i=0; i<inds.length; i++) {\n",
    "            data_d['poly_id'].push(String(data_s['poly_id'][inds[i]]));\n",
    "        }\n",
    "        select.options = data_d['poly_id']\n",
    "        select.value = data_d['poly_id'][0]\n",
    "    \"\"\"\n",
    "    js_callback = CustomJS(args={'source': source, 'target': poly_id_source, 'select': poly_select}, code=js_code)\n",
    "    source.selected.js_on_change('indices', js_callback)\n",
    "\n",
    "    plot.add_tools(HoverTool(tooltips=[('Id', \"@poly_id\"), ('Polygon', \"@poly_name\"), (\"Catchment\", \"@catchment\")],\n",
    "        show_arrow=False, point_policy='follow_mouse'))\n",
    "\n",
    "    def select_update(attrname, old, new):\n",
    "        decade = int(select.value)\n",
    "        catchments = []\n",
    "        for i in checkbox_group.active:\n",
    "            catchments.append(catchment_list[i])\n",
    "        label.text = '-'.join([str(decade-10), str(decade)])\n",
    "        refreshed_data = data.loc[(data.decade==decade) & data.catchment.isin(catchments)].reset_index()\n",
    "        indices = refreshed_data.index[refreshed_data.poly_id.astype(str).isin(poly_select.options)].tolist()\n",
    "        source.data = refreshed_data\n",
    "        color_map = plasma(len(catchments))\n",
    "        color_mapper = factor_cmap('catchment', palette=color_map, factors=catchments)\n",
    "        cc.glyph.fill_color=color_mapper\n",
    "        source.selected.indices = indices\n",
    "\n",
    "    select = Select(title=\"Decade\", value='2020', options=['2000', '2010', '2020'], height=50, width=100, sizing_mode=\"fixed\")\n",
    "    select.on_change('value', select_update)\n",
    "\n",
    "    checkbox_group = CheckboxGroup(labels=catchment_list, active=list(np.arange(len(catchment_list))), height=600, width=300, sizing_mode=\"scale_height\")\n",
    "    checkbox_group.on_change('active', select_update)\n",
    "\n",
    "    button = Button(label = \"Deselect all\", button_type = \"success\")\n",
    "\n",
    "    def buttonclick():\n",
    "        '''create a button click event to deselect all of our checkboxes, to make life easy'''\n",
    "        checkbox_group.active = []\n",
    "\n",
    "    button.on_click(buttonclick)\n",
    "    \n",
    "    controls = column(select, button, checkbox_group, poly_select,  height=700, width=200, sizing_mode='fixed')\n",
    " \n",
    "    sub_plot = figure(y_range=(0, poly_area), x_range=(poly_data['time'].min(), poly_data['time'].max()), title=data.poly_name.iloc[0],\n",
    "            plot_height=100, plot_width=900, sizing_mode='stretch_width')\n",
    "\n",
    "    sub_plot.xaxis.formatter = DatetimeTickFormatter()\n",
    "    sub_plot.xaxis.ticker = YearsTicker(interval=1)\n",
    "    sub_plot.yaxis.axis_label = \"Area (hectare)\"\n",
    "\n",
    "    pal = [ '#030aa7',\n",
    "            '#04d9ff',\n",
    "            '#3f9b0b',\n",
    "            '#e6daa6',\n",
    "            '#60460f'\n",
    "        ]\n",
    "    v_stack = sub_plot.varea_stack(['open water', 'wet', 'green veg', 'dry veg', 'bare soil'], x='time',\n",
    "                             color=pal, source=single_source, alpha=0.6)\n",
    "    legend = Legend(items=[\n",
    "    (\"bare soil\", [v_stack[4]]),\n",
    "    (\"dry veg\", [v_stack[3]]),\n",
    "    (\"green veg\", [v_stack[2]]),\n",
    "    (\"wet\", [v_stack[1]]),\n",
    "    (\"open water\", [v_stack[0]]),\n",
    "    ], location=\"top_left\")\n",
    "\n",
    "    sub_plot.add_layout(legend, 'left')\n",
    "\n",
    "    grid = gridplot([plot, sub_plot], ncols=1, plot_height=400, plot_width=600, sizing_mode='scale_width')\n",
    "\n",
    "    layouts = layout([\n",
    "        [controls, grid],\n",
    "    ], sizing_mode='scale_both')\n",
    "    \n",
    "    doc.add_root(layouts)\n",
    "    doc.title = \"Inundation\""
   ]
  },
  {
   "cell_type": "code",
   "execution_count": null,
   "metadata": {},
   "outputs": [],
   "source": [
    "def remote_jupyter_proxy_url(port):\n",
    "    \"\"\"\n",
    "    Callable to configure Bokeh's show method when a proxy must be\n",
    "    configured.\n",
    "\n",
    "    If port is None we're asking about the URL\n",
    "    for the origin header.\n",
    "    \"\"\"\n",
    "    base_url = \"https://app.sandbox.dea.ga.gov.au/\"\n",
    "    host = urllib.parse.urlparse(base_url).netloc\n",
    "    # If port is None we're asking for the URL origin\n",
    "    # so return the public hostname.\n",
    "    if port is None:\n",
    "        return host\n",
    "\n",
    "    service_url_path = os.environ['JUPYTERHUB_SERVICE_PREFIX']\n",
    "    proxy_url_path = 'proxy/%d' % port\n",
    "\n",
    "    user_url = urllib.parse.urljoin(base_url, service_url_path)\n",
    "    full_url = urllib.parse.urljoin(user_url, proxy_url_path)\n",
    "    return full_url"
   ]
  },
  {
   "cell_type": "code",
   "execution_count": null,
   "metadata": {},
   "outputs": [],
   "source": [
    "show(plot_doc, notebook_url=remote_jupyter_proxy_url)"
   ]
  },
  {
   "cell_type": "markdown",
   "metadata": {},
   "source": [
    "### clear all cell output before pushing notebook up to GitHub (developers)"
   ]
  },
  {
   "cell_type": "markdown",
   "metadata": {},
   "source": [
    "***\n",
    "\n",
    "## Additional information\n",
    "\n",
    "**License:** The code in this notebook is licensed under the [Apache License, Version 2.0](https://www.apache.org/licenses/LICENSE-2.0). \n",
    "Digital Earth Australia data is licensed under the [Creative Commons by Attribution 4.0](https://creativecommons.org/licenses/by/4.0/) license.\n",
    "\n",
    "**Contact:** If you need assistance, or to report an issue with this notebook, you can post on our [Github](https://github.com/GeoscienceAustralia/wit_tooling/tree/master/aux).\n",
    "\n",
    "**Last modified:** May 2020"
   ]
  },
  {
   "cell_type": "code",
   "execution_count": null,
   "metadata": {},
   "outputs": [],
   "source": []
  }
 ],
 "metadata": {
  "kernelspec": {
   "display_name": "Python 3",
   "language": "python",
   "name": "python3"
  },
  "language_info": {
   "codemirror_mode": {
    "name": "ipython",
    "version": 3
   },
   "file_extension": ".py",
   "mimetype": "text/x-python",
   "name": "python",
   "nbconvert_exporter": "python",
   "pygments_lexer": "ipython3",
   "version": "3.6.9"
  },
  "widgets": {
   "application/vnd.jupyter.widget-state+json": {
    "state": {},
    "version_major": 2,
    "version_minor": 0
   }
  }
 },
 "nbformat": 4,
 "nbformat_minor": 4
}
