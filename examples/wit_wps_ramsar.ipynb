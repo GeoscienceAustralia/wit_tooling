{
 "cells": [
  {
   "cell_type": "code",
   "execution_count": null,
   "metadata": {},
   "outputs": [],
   "source": [
    "from datacube import Datacube\n",
    "from datacube.virtual.impl import VirtualDatasetBox\n",
    "from datacube.virtual import construct\n",
    "from datacube.utils.geometry import CRS, Geometry\n",
    "from datacube.utils.geometry.gbox import GeoboxTiles\n",
    "import boto3\n",
    "import os\n",
    "import fiona\n",
    "import yaml\n",
    "import numpy as np\n",
    "import pandas as pd\n",
    "from datetime import datetime\n",
    "from shapely import ops, geometry\n",
    "import pyproj"
   ]
  },
  {
   "cell_type": "code",
   "execution_count": null,
   "metadata": {},
   "outputs": [],
   "source": [
    "from datacube_wps.processes.witprocess import *\n",
    "from datacube.utils.dask import start_local_dask\n",
    "#from datacube.utils.aws import configure_s3_access"
   ]
  },
  {
   "cell_type": "code",
   "execution_count": null,
   "metadata": {},
   "outputs": [],
   "source": [
    "client = start_local_dask(n_workers=1, threads_per_worker=7, memory_limit='58GB')"
   ]
  },
  {
   "cell_type": "code",
   "execution_count": null,
   "metadata": {},
   "outputs": [],
   "source": [
    "client"
   ]
  },
  {
   "cell_type": "code",
   "execution_count": null,
   "metadata": {},
   "outputs": [],
   "source": [
    "import awswrangler as wr"
   ]
  },
  {
   "cell_type": "code",
   "execution_count": null,
   "metadata": {},
   "outputs": [],
   "source": [
    "session = boto3.Session(profile_name='dev')\n",
    "landsat_shapefile = 'landsat_au/landsat_au.shp'"
   ]
  },
  {
   "cell_type": "code",
   "execution_count": null,
   "metadata": {},
   "outputs": [],
   "source": [
    "def shape_list(shapefile):\n",
    "    with fiona.open(shapefile) as allshapes:\n",
    "        for shape in allshapes:\n",
    "            yield(shape)"
   ]
  },
  {
   "cell_type": "code",
   "execution_count": null,
   "metadata": {},
   "outputs": [],
   "source": [
    "def intersect_landsat_pathrow(input_shape, landsat_shapes):\n",
    "    project = pyproj.Transformer.from_crs(\"EPSG:4326\", \"EPSG:3577\", always_xy=True).transform\n",
    "    input_poly = geometry.shape(input_shape['geometry'])\n",
    "    for l_shape in landsat_shapes:\n",
    "        overlap = ops.transform(project,  geometry.shape(l_shape['geometry'])).intersection(input_poly)\n",
    "        if overlap.area > 0:\n",
    "            if overlap.area / input_poly.area > 0.9:\n",
    "                return(input_shape['id'], 1)\n",
    "    return (input_shape['id'], 15)"
   ]
  },
  {
   "cell_type": "code",
   "execution_count": null,
   "metadata": {},
   "outputs": [],
   "source": [
    "    product_yaml = 'fc_pd_reproject.yaml'\n",
    "    with open(product_yaml, 'r') as f:\n",
    "        recipe = yaml.safe_load(f)\n",
    "    fc_product = construct(**recipe)"
   ]
  },
  {
   "cell_type": "code",
   "execution_count": null,
   "metadata": {},
   "outputs": [],
   "source": [
    "config = yaml.load(\"\"\" \n",
    "about:\n",
    "       identifier: FractionalCoverDrill\n",
    "       version: '0.3'\n",
    "       title: Fractional Cover\n",
    "       abstract: Performs Fractional Cover Polygon Drill\n",
    "       store_supported: True\n",
    "       status_supported: True\n",
    "       geometry_type: polygon\n",
    "       \"\"\", Loader=yaml.CLoader)\n",
    "wit = WIT(config['about'], fc_product, '')"
   ]
  },
  {
   "cell_type": "code",
   "execution_count": null,
   "metadata": {},
   "outputs": [],
   "source": [
    "shapefile_name = 'Ramsar_sthwest/ramsar_WIT_sthwest_3577.shp'\n",
    "# shapefile_name = 'qld_shapefile/Queensland_dominant_wetland_areas_22042020.shp'"
   ]
  },
  {
   "cell_type": "code",
   "execution_count": null,
   "metadata": {},
   "outputs": [],
   "source": [
    "time = ('1987-01-01', '2021-01-01')\n",
    "dc = Datacube()\n",
    "i = 0\n",
    "for shape in shape_list(shapefile_name):\n",
    "    if int(shape['id']) < 67:\n",
    "        continue\n",
    "    shape_set = intersect_landsat_pathrow(shape, shape_list(landsat_shapefile))\n",
    "    print(\"compute\", shape_set)\n",
    "    query_poly = Geometry(shape['geometry'], crs=CRS('EPSG:3577'))\n",
    "    print(\"start query time\", datetime.now())\n",
    "    %time results = wit.input_data(dc, time, query_poly)\n",
    "    print(\"start computation\", datetime.now())\n",
    "    adays = shape_set[1]\n",
    "    %time re_wit = wit.process_data(results, dict(feature=query_poly, aggregate=adays))\n",
    "    print(\"end computation\", datetime.now())\n",
    "    re_wit['geometry'] = query_poly.geom.convex_hull.to_wkt()\n",
    "    wr.s3.to_parquet(df=re_wit.reset_index(), \n",
    "             path=\"s3://dea-wit-dev/c3-samples-3577/ramsar/\"+shape['id'], compression=\"snappy\", dataset=True, mode='overwrite',boto3_session=session)"
   ]
  },
  {
   "cell_type": "code",
   "execution_count": null,
   "metadata": {},
   "outputs": [],
   "source": [
    "# gather and rewrite the parquet file to one single large\n",
    "a = wr.s3.read_parquet(\"s3://dea-wit-dev/c3-samples-3577/ramsar/\", dataset=True, boto3_session=session)\n",
    "wr.s3.to_parquet(df=a, path=\"s3://dea-wit-dev/c3-samples-3577/ramsar/all/all.parquet\", compression=\"snappy\", dataset=False, boto3_session=session)"
   ]
  }
 ],
 "metadata": {
  "kernelspec": {
   "display_name": "Python 3",
   "language": "python",
   "name": "python3"
  },
  "language_info": {
   "codemirror_mode": {
    "name": "ipython",
    "version": 3
   },
   "file_extension": ".py",
   "mimetype": "text/x-python",
   "name": "python",
   "nbconvert_exporter": "python",
   "pygments_lexer": "ipython3",
   "version": "3.6.9"
  }
 },
 "nbformat": 4,
 "nbformat_minor": 4
}
